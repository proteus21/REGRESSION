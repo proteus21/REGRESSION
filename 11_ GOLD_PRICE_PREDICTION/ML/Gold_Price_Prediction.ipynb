{
  "nbformat": 4,
  "nbformat_minor": 0,
  "metadata": {
    "colab": {
      "provenance": []
    },
    "kernelspec": {
      "name": "python3",
      "display_name": "Python 3"
    },
    "language_info": {
      "name": "python"
    }
  },
  "cells": [
    {
      "cell_type": "markdown",
      "source": [
        "## GOLD Price Prediction"
      ],
      "metadata": {
        "id": "k3mpjwgAorJy"
      }
    },
    {
      "cell_type": "markdown",
      "source": [
        "Predicting gold prices is a challenging task due to the various factors that influence its value, such as economic conditions, geopolitical events, and supply and demand dynamics. However, machine learning models can be used to analyze historical gold price data and make predictions about future prices.\n",
        "\n",
        "There are several types of machine learning models that can be used for gold price prediction, including:\n",
        "\n",
        "* Linear Regression: This is a simple but powerful model that can be used to\n",
        "predict a continuous value based on a linear relationship between the input features and the target variable.\n",
        "* Decision Trees: This model builds a tree-like structure where each internal node represents a decision based on a feature value, and each leaf node represents a predicted value.\n",
        "* Random Forest: This model combines multiple decision trees to improve prediction accuracy.\n",
        "Support Vector Regression: This model finds a hyperplane that best separates the data points into different classes or categories.\n",
        "* Neural Networks: These models are inspired by the human brain and can learn complex relationships between input features and the target variable.\n",
        "\n",
        "The choice of which model to use for gold price prediction depends on the specific data set and the desired level of accuracy. It is often necessary to experiment with different models and evaluate their performance using various metrics such as mean squared error (MSE) or R-squared score."
      ],
      "metadata": {
        "id": "D7DCknK10Wz8"
      }
    },
    {
      "cell_type": "markdown",
      "source": [
        "Libraries"
      ],
      "metadata": {
        "id": "SzUVqjumo4b-"
      }
    },
    {
      "cell_type": "code",
      "source": [
        "import pandas as pd\n",
        "import numpy as np\n",
        "\n",
        "from sklearn.model_selection import train_test_split\n",
        "from sklearn. preprocessing import StandardScaler\n",
        "from  sklearn. preprocessing import MinMaxScaler\n",
        "\n",
        "import tensorflow as tf\n",
        "from tensorflow import keras\n",
        "from tensorflow.keras import Sequential\n",
        "from tensorflow.keras.layers import Dense"
      ],
      "metadata": {
        "id": "O6jC0QH9o6cM"
      },
      "execution_count": 3,
      "outputs": []
    },
    {
      "cell_type": "code",
      "source": [
        "df=pd.read_csv('/content/gld_price_data.csv')\n",
        "df.head()"
      ],
      "metadata": {
        "colab": {
          "base_uri": "https://localhost:8080/",
          "height": 206
        },
        "id": "XOX5W0y8qJwb",
        "outputId": "b7454bbd-94ea-426b-f2b2-53131b179d0e"
      },
      "execution_count": 4,
      "outputs": [
        {
          "output_type": "execute_result",
          "data": {
            "text/plain": [
              "       Date          SPX        GLD        USO     SLV   EUR/USD\n",
              "0  01/02/08  1447.160034  84.860001  78.470001  15.180  1.471692\n",
              "1  01/03/08  1447.160034  85.570000  78.370003  15.285  1.474491\n",
              "2  01/04/08  1411.630005  85.129997  77.309998  15.167  1.475492\n",
              "3  01/07/08  1416.180054  84.769997  75.500000  15.053  1.468299\n",
              "4  01/08/08  1390.189941  86.779999  76.059998  15.590  1.557099"
            ],
            "text/html": [
              "\n",
              "  <div id=\"df-43444dd2-a021-4f77-861e-2fa63405d573\" class=\"colab-df-container\">\n",
              "    <div>\n",
              "<style scoped>\n",
              "    .dataframe tbody tr th:only-of-type {\n",
              "        vertical-align: middle;\n",
              "    }\n",
              "\n",
              "    .dataframe tbody tr th {\n",
              "        vertical-align: top;\n",
              "    }\n",
              "\n",
              "    .dataframe thead th {\n",
              "        text-align: right;\n",
              "    }\n",
              "</style>\n",
              "<table border=\"1\" class=\"dataframe\">\n",
              "  <thead>\n",
              "    <tr style=\"text-align: right;\">\n",
              "      <th></th>\n",
              "      <th>Date</th>\n",
              "      <th>SPX</th>\n",
              "      <th>GLD</th>\n",
              "      <th>USO</th>\n",
              "      <th>SLV</th>\n",
              "      <th>EUR/USD</th>\n",
              "    </tr>\n",
              "  </thead>\n",
              "  <tbody>\n",
              "    <tr>\n",
              "      <th>0</th>\n",
              "      <td>01/02/08</td>\n",
              "      <td>1447.160034</td>\n",
              "      <td>84.860001</td>\n",
              "      <td>78.470001</td>\n",
              "      <td>15.180</td>\n",
              "      <td>1.471692</td>\n",
              "    </tr>\n",
              "    <tr>\n",
              "      <th>1</th>\n",
              "      <td>01/03/08</td>\n",
              "      <td>1447.160034</td>\n",
              "      <td>85.570000</td>\n",
              "      <td>78.370003</td>\n",
              "      <td>15.285</td>\n",
              "      <td>1.474491</td>\n",
              "    </tr>\n",
              "    <tr>\n",
              "      <th>2</th>\n",
              "      <td>01/04/08</td>\n",
              "      <td>1411.630005</td>\n",
              "      <td>85.129997</td>\n",
              "      <td>77.309998</td>\n",
              "      <td>15.167</td>\n",
              "      <td>1.475492</td>\n",
              "    </tr>\n",
              "    <tr>\n",
              "      <th>3</th>\n",
              "      <td>01/07/08</td>\n",
              "      <td>1416.180054</td>\n",
              "      <td>84.769997</td>\n",
              "      <td>75.500000</td>\n",
              "      <td>15.053</td>\n",
              "      <td>1.468299</td>\n",
              "    </tr>\n",
              "    <tr>\n",
              "      <th>4</th>\n",
              "      <td>01/08/08</td>\n",
              "      <td>1390.189941</td>\n",
              "      <td>86.779999</td>\n",
              "      <td>76.059998</td>\n",
              "      <td>15.590</td>\n",
              "      <td>1.557099</td>\n",
              "    </tr>\n",
              "  </tbody>\n",
              "</table>\n",
              "</div>\n",
              "    <div class=\"colab-df-buttons\">\n",
              "\n",
              "  <div class=\"colab-df-container\">\n",
              "    <button class=\"colab-df-convert\" onclick=\"convertToInteractive('df-43444dd2-a021-4f77-861e-2fa63405d573')\"\n",
              "            title=\"Convert this dataframe to an interactive table.\"\n",
              "            style=\"display:none;\">\n",
              "\n",
              "  <svg xmlns=\"http://www.w3.org/2000/svg\" height=\"24px\" viewBox=\"0 -960 960 960\">\n",
              "    <path d=\"M120-120v-720h720v720H120Zm60-500h600v-160H180v160Zm220 220h160v-160H400v160Zm0 220h160v-160H400v160ZM180-400h160v-160H180v160Zm440 0h160v-160H620v160ZM180-180h160v-160H180v160Zm440 0h160v-160H620v160Z\"/>\n",
              "  </svg>\n",
              "    </button>\n",
              "\n",
              "  <style>\n",
              "    .colab-df-container {\n",
              "      display:flex;\n",
              "      gap: 12px;\n",
              "    }\n",
              "\n",
              "    .colab-df-convert {\n",
              "      background-color: #E8F0FE;\n",
              "      border: none;\n",
              "      border-radius: 50%;\n",
              "      cursor: pointer;\n",
              "      display: none;\n",
              "      fill: #1967D2;\n",
              "      height: 32px;\n",
              "      padding: 0 0 0 0;\n",
              "      width: 32px;\n",
              "    }\n",
              "\n",
              "    .colab-df-convert:hover {\n",
              "      background-color: #E2EBFA;\n",
              "      box-shadow: 0px 1px 2px rgba(60, 64, 67, 0.3), 0px 1px 3px 1px rgba(60, 64, 67, 0.15);\n",
              "      fill: #174EA6;\n",
              "    }\n",
              "\n",
              "    .colab-df-buttons div {\n",
              "      margin-bottom: 4px;\n",
              "    }\n",
              "\n",
              "    [theme=dark] .colab-df-convert {\n",
              "      background-color: #3B4455;\n",
              "      fill: #D2E3FC;\n",
              "    }\n",
              "\n",
              "    [theme=dark] .colab-df-convert:hover {\n",
              "      background-color: #434B5C;\n",
              "      box-shadow: 0px 1px 3px 1px rgba(0, 0, 0, 0.15);\n",
              "      filter: drop-shadow(0px 1px 2px rgba(0, 0, 0, 0.3));\n",
              "      fill: #FFFFFF;\n",
              "    }\n",
              "  </style>\n",
              "\n",
              "    <script>\n",
              "      const buttonEl =\n",
              "        document.querySelector('#df-43444dd2-a021-4f77-861e-2fa63405d573 button.colab-df-convert');\n",
              "      buttonEl.style.display =\n",
              "        google.colab.kernel.accessAllowed ? 'block' : 'none';\n",
              "\n",
              "      async function convertToInteractive(key) {\n",
              "        const element = document.querySelector('#df-43444dd2-a021-4f77-861e-2fa63405d573');\n",
              "        const dataTable =\n",
              "          await google.colab.kernel.invokeFunction('convertToInteractive',\n",
              "                                                    [key], {});\n",
              "        if (!dataTable) return;\n",
              "\n",
              "        const docLinkHtml = 'Like what you see? Visit the ' +\n",
              "          '<a target=\"_blank\" href=https://colab.research.google.com/notebooks/data_table.ipynb>data table notebook</a>'\n",
              "          + ' to learn more about interactive tables.';\n",
              "        element.innerHTML = '';\n",
              "        dataTable['output_type'] = 'display_data';\n",
              "        await google.colab.output.renderOutput(dataTable, element);\n",
              "        const docLink = document.createElement('div');\n",
              "        docLink.innerHTML = docLinkHtml;\n",
              "        element.appendChild(docLink);\n",
              "      }\n",
              "    </script>\n",
              "  </div>\n",
              "\n",
              "\n",
              "<div id=\"df-e5de9e1c-cecd-4cdf-9e2b-f7817761c281\">\n",
              "  <button class=\"colab-df-quickchart\" onclick=\"quickchart('df-e5de9e1c-cecd-4cdf-9e2b-f7817761c281')\"\n",
              "            title=\"Suggest charts\"\n",
              "            style=\"display:none;\">\n",
              "\n",
              "<svg xmlns=\"http://www.w3.org/2000/svg\" height=\"24px\"viewBox=\"0 0 24 24\"\n",
              "     width=\"24px\">\n",
              "    <g>\n",
              "        <path d=\"M19 3H5c-1.1 0-2 .9-2 2v14c0 1.1.9 2 2 2h14c1.1 0 2-.9 2-2V5c0-1.1-.9-2-2-2zM9 17H7v-7h2v7zm4 0h-2V7h2v10zm4 0h-2v-4h2v4z\"/>\n",
              "    </g>\n",
              "</svg>\n",
              "  </button>\n",
              "\n",
              "<style>\n",
              "  .colab-df-quickchart {\n",
              "      --bg-color: #E8F0FE;\n",
              "      --fill-color: #1967D2;\n",
              "      --hover-bg-color: #E2EBFA;\n",
              "      --hover-fill-color: #174EA6;\n",
              "      --disabled-fill-color: #AAA;\n",
              "      --disabled-bg-color: #DDD;\n",
              "  }\n",
              "\n",
              "  [theme=dark] .colab-df-quickchart {\n",
              "      --bg-color: #3B4455;\n",
              "      --fill-color: #D2E3FC;\n",
              "      --hover-bg-color: #434B5C;\n",
              "      --hover-fill-color: #FFFFFF;\n",
              "      --disabled-bg-color: #3B4455;\n",
              "      --disabled-fill-color: #666;\n",
              "  }\n",
              "\n",
              "  .colab-df-quickchart {\n",
              "    background-color: var(--bg-color);\n",
              "    border: none;\n",
              "    border-radius: 50%;\n",
              "    cursor: pointer;\n",
              "    display: none;\n",
              "    fill: var(--fill-color);\n",
              "    height: 32px;\n",
              "    padding: 0;\n",
              "    width: 32px;\n",
              "  }\n",
              "\n",
              "  .colab-df-quickchart:hover {\n",
              "    background-color: var(--hover-bg-color);\n",
              "    box-shadow: 0 1px 2px rgba(60, 64, 67, 0.3), 0 1px 3px 1px rgba(60, 64, 67, 0.15);\n",
              "    fill: var(--button-hover-fill-color);\n",
              "  }\n",
              "\n",
              "  .colab-df-quickchart-complete:disabled,\n",
              "  .colab-df-quickchart-complete:disabled:hover {\n",
              "    background-color: var(--disabled-bg-color);\n",
              "    fill: var(--disabled-fill-color);\n",
              "    box-shadow: none;\n",
              "  }\n",
              "\n",
              "  .colab-df-spinner {\n",
              "    border: 2px solid var(--fill-color);\n",
              "    border-color: transparent;\n",
              "    border-bottom-color: var(--fill-color);\n",
              "    animation:\n",
              "      spin 1s steps(1) infinite;\n",
              "  }\n",
              "\n",
              "  @keyframes spin {\n",
              "    0% {\n",
              "      border-color: transparent;\n",
              "      border-bottom-color: var(--fill-color);\n",
              "      border-left-color: var(--fill-color);\n",
              "    }\n",
              "    20% {\n",
              "      border-color: transparent;\n",
              "      border-left-color: var(--fill-color);\n",
              "      border-top-color: var(--fill-color);\n",
              "    }\n",
              "    30% {\n",
              "      border-color: transparent;\n",
              "      border-left-color: var(--fill-color);\n",
              "      border-top-color: var(--fill-color);\n",
              "      border-right-color: var(--fill-color);\n",
              "    }\n",
              "    40% {\n",
              "      border-color: transparent;\n",
              "      border-right-color: var(--fill-color);\n",
              "      border-top-color: var(--fill-color);\n",
              "    }\n",
              "    60% {\n",
              "      border-color: transparent;\n",
              "      border-right-color: var(--fill-color);\n",
              "    }\n",
              "    80% {\n",
              "      border-color: transparent;\n",
              "      border-right-color: var(--fill-color);\n",
              "      border-bottom-color: var(--fill-color);\n",
              "    }\n",
              "    90% {\n",
              "      border-color: transparent;\n",
              "      border-bottom-color: var(--fill-color);\n",
              "    }\n",
              "  }\n",
              "</style>\n",
              "\n",
              "  <script>\n",
              "    async function quickchart(key) {\n",
              "      const quickchartButtonEl =\n",
              "        document.querySelector('#' + key + ' button');\n",
              "      quickchartButtonEl.disabled = true;  // To prevent multiple clicks.\n",
              "      quickchartButtonEl.classList.add('colab-df-spinner');\n",
              "      try {\n",
              "        const charts = await google.colab.kernel.invokeFunction(\n",
              "            'suggestCharts', [key], {});\n",
              "      } catch (error) {\n",
              "        console.error('Error during call to suggestCharts:', error);\n",
              "      }\n",
              "      quickchartButtonEl.classList.remove('colab-df-spinner');\n",
              "      quickchartButtonEl.classList.add('colab-df-quickchart-complete');\n",
              "    }\n",
              "    (() => {\n",
              "      let quickchartButtonEl =\n",
              "        document.querySelector('#df-e5de9e1c-cecd-4cdf-9e2b-f7817761c281 button');\n",
              "      quickchartButtonEl.style.display =\n",
              "        google.colab.kernel.accessAllowed ? 'block' : 'none';\n",
              "    })();\n",
              "  </script>\n",
              "</div>\n",
              "\n",
              "    </div>\n",
              "  </div>\n"
            ],
            "application/vnd.google.colaboratory.intrinsic+json": {
              "type": "dataframe",
              "variable_name": "df",
              "repr_error": "'str' object has no attribute 'empty'"
            }
          },
          "metadata": {},
          "execution_count": 4
        }
      ]
    },
    {
      "cell_type": "code",
      "source": [
        "df.isnull().sum()"
      ],
      "metadata": {
        "colab": {
          "base_uri": "https://localhost:8080/"
        },
        "id": "7bLCCBxYvok0",
        "outputId": "4a6dbdfa-26d6-4673-ecb5-69c91659859b"
      },
      "execution_count": 24,
      "outputs": [
        {
          "output_type": "execute_result",
          "data": {
            "text/plain": [
              "Date       0\n",
              "SPX        0\n",
              "GLD        0\n",
              "USO        0\n",
              "SLV        0\n",
              "EUR/USD    0\n",
              "dtype: int64"
            ]
          },
          "metadata": {},
          "execution_count": 24
        }
      ]
    },
    {
      "cell_type": "code",
      "source": [
        "X=df[['SPX', 'SLV', 'EUR/USD', 'USO']]\n",
        "y=df['GLD']"
      ],
      "metadata": {
        "id": "9o_9Iziaqj76"
      },
      "execution_count": 15,
      "outputs": []
    },
    {
      "cell_type": "code",
      "source": [
        "X_train, X_test, y_train, y_test=train_test_split(X,y, test_size=0.2,random_state=21 )"
      ],
      "metadata": {
        "id": "-O3XwSfzq7ge"
      },
      "execution_count": 16,
      "outputs": []
    },
    {
      "cell_type": "code",
      "source": [
        "X_train.shape, X_test.shape"
      ],
      "metadata": {
        "colab": {
          "base_uri": "https://localhost:8080/"
        },
        "id": "c85wnChdrblu",
        "outputId": "131f75d2-49e5-450b-ce7f-716cfbf0af6e"
      },
      "execution_count": 17,
      "outputs": [
        {
          "output_type": "execute_result",
          "data": {
            "text/plain": [
              "((1832, 4), (458, 4))"
            ]
          },
          "metadata": {},
          "execution_count": 17
        }
      ]
    },
    {
      "cell_type": "code",
      "source": [
        "scaler=MinMaxScaler()\n",
        "X_train_scaled=scaler.fit_transform(X_train)\n",
        "X_test_scaled=scaler.transform(X_test)\n"
      ],
      "metadata": {
        "id": "Ee6D7ZjzrkzG"
      },
      "execution_count": 18,
      "outputs": []
    },
    {
      "cell_type": "markdown",
      "source": [
        "### Model ANN ( Artifical Neural Networks)"
      ],
      "metadata": {
        "id": "O7BsH0nUuvkB"
      }
    },
    {
      "cell_type": "code",
      "source": [
        "model=Sequential()\n",
        "model.add(Dense(10, activation='relu', input_dim=4))\n",
        "model.add(Dense(10, activation='relu'))\n",
        "model.add(Dense(1, activation='linear'))\n",
        "\n",
        "model.compile(loss='mean_squared_error', optimizer='Adam')\n",
        "history=model.fit(X_train_scaled, y_train, epochs=50, validation_split=0.1)"
      ],
      "metadata": {
        "colab": {
          "base_uri": "https://localhost:8080/"
        },
        "id": "gxFkxAjMr4xi",
        "outputId": "4b12f0d1-0026-4bdd-f76f-9c760a390917"
      },
      "execution_count": 19,
      "outputs": [
        {
          "output_type": "stream",
          "name": "stdout",
          "text": [
            "Epoch 1/50\n",
            "52/52 [==============================] - 1s 6ms/step - loss: 15525.0166 - val_loss: 15544.1084\n",
            "Epoch 2/50\n",
            "52/52 [==============================] - 0s 3ms/step - loss: 15432.2637 - val_loss: 15435.1846\n",
            "Epoch 3/50\n",
            "52/52 [==============================] - 0s 2ms/step - loss: 15260.5332 - val_loss: 15173.4824\n",
            "Epoch 4/50\n",
            "52/52 [==============================] - 0s 3ms/step - loss: 14848.1406 - val_loss: 14559.1484\n",
            "Epoch 5/50\n",
            "52/52 [==============================] - 0s 3ms/step - loss: 13986.4443 - val_loss: 13402.0273\n",
            "Epoch 6/50\n",
            "52/52 [==============================] - 0s 2ms/step - loss: 12545.4355 - val_loss: 11661.8936\n",
            "Epoch 7/50\n",
            "52/52 [==============================] - 0s 2ms/step - loss: 10580.2510 - val_loss: 9478.9512\n",
            "Epoch 8/50\n",
            "52/52 [==============================] - 0s 3ms/step - loss: 8268.8369 - val_loss: 7067.9355\n",
            "Epoch 9/50\n",
            "52/52 [==============================] - 0s 2ms/step - loss: 5895.0210 - val_loss: 4779.0215\n",
            "Epoch 10/50\n",
            "52/52 [==============================] - 0s 2ms/step - loss: 3796.2371 - val_loss: 2908.7571\n",
            "Epoch 11/50\n",
            "52/52 [==============================] - 0s 2ms/step - loss: 2231.0671 - val_loss: 1655.7384\n",
            "Epoch 12/50\n",
            "52/52 [==============================] - 0s 3ms/step - loss: 1277.9156 - val_loss: 983.9684\n",
            "Epoch 13/50\n",
            "52/52 [==============================] - 0s 2ms/step - loss: 814.1197 - val_loss: 695.8806\n",
            "Epoch 14/50\n",
            "52/52 [==============================] - 0s 2ms/step - loss: 629.8207 - val_loss: 590.3953\n",
            "Epoch 15/50\n",
            "52/52 [==============================] - 0s 2ms/step - loss: 564.7093 - val_loss: 552.1514\n",
            "Epoch 16/50\n",
            "52/52 [==============================] - 0s 2ms/step - loss: 536.5297 - val_loss: 531.2451\n",
            "Epoch 17/50\n",
            "52/52 [==============================] - 0s 2ms/step - loss: 518.2732 - val_loss: 514.8489\n",
            "Epoch 18/50\n",
            "52/52 [==============================] - 0s 2ms/step - loss: 502.5028 - val_loss: 499.5865\n",
            "Epoch 19/50\n",
            "52/52 [==============================] - 0s 3ms/step - loss: 487.0534 - val_loss: 484.5778\n",
            "Epoch 20/50\n",
            "52/52 [==============================] - 0s 3ms/step - loss: 472.1647 - val_loss: 470.2908\n",
            "Epoch 21/50\n",
            "52/52 [==============================] - 0s 3ms/step - loss: 457.9339 - val_loss: 456.3279\n",
            "Epoch 22/50\n",
            "52/52 [==============================] - 0s 3ms/step - loss: 443.7334 - val_loss: 442.5874\n",
            "Epoch 23/50\n",
            "52/52 [==============================] - 0s 2ms/step - loss: 429.8088 - val_loss: 429.1925\n",
            "Epoch 24/50\n",
            "52/52 [==============================] - 0s 2ms/step - loss: 416.3857 - val_loss: 416.2102\n",
            "Epoch 25/50\n",
            "52/52 [==============================] - 0s 2ms/step - loss: 403.4658 - val_loss: 403.2424\n",
            "Epoch 26/50\n",
            "52/52 [==============================] - 0s 3ms/step - loss: 390.7874 - val_loss: 391.1455\n",
            "Epoch 27/50\n",
            "52/52 [==============================] - 0s 4ms/step - loss: 378.6703 - val_loss: 378.7317\n",
            "Epoch 28/50\n",
            "52/52 [==============================] - 0s 4ms/step - loss: 367.0175 - val_loss: 367.2841\n",
            "Epoch 29/50\n",
            "52/52 [==============================] - 0s 3ms/step - loss: 355.2181 - val_loss: 356.0688\n",
            "Epoch 30/50\n",
            "52/52 [==============================] - 0s 3ms/step - loss: 344.4067 - val_loss: 345.2570\n",
            "Epoch 31/50\n",
            "52/52 [==============================] - 0s 3ms/step - loss: 333.6783 - val_loss: 334.5668\n",
            "Epoch 32/50\n",
            "52/52 [==============================] - 0s 3ms/step - loss: 323.3678 - val_loss: 324.5041\n",
            "Epoch 33/50\n",
            "52/52 [==============================] - 0s 3ms/step - loss: 313.3162 - val_loss: 314.4151\n",
            "Epoch 34/50\n",
            "52/52 [==============================] - 0s 4ms/step - loss: 304.0477 - val_loss: 304.5525\n",
            "Epoch 35/50\n",
            "52/52 [==============================] - 0s 4ms/step - loss: 294.3442 - val_loss: 295.3617\n",
            "Epoch 36/50\n",
            "52/52 [==============================] - 0s 4ms/step - loss: 285.2254 - val_loss: 286.2312\n",
            "Epoch 37/50\n",
            "52/52 [==============================] - 0s 4ms/step - loss: 276.3992 - val_loss: 277.2715\n",
            "Epoch 38/50\n",
            "52/52 [==============================] - 0s 4ms/step - loss: 267.9871 - val_loss: 268.8091\n",
            "Epoch 39/50\n",
            "52/52 [==============================] - 0s 4ms/step - loss: 259.8347 - val_loss: 260.0704\n",
            "Epoch 40/50\n",
            "52/52 [==============================] - 0s 4ms/step - loss: 251.5213 - val_loss: 251.9008\n",
            "Epoch 41/50\n",
            "52/52 [==============================] - 0s 2ms/step - loss: 243.9810 - val_loss: 244.1647\n",
            "Epoch 42/50\n",
            "52/52 [==============================] - 0s 2ms/step - loss: 236.1111 - val_loss: 235.7157\n",
            "Epoch 43/50\n",
            "52/52 [==============================] - 0s 2ms/step - loss: 228.7803 - val_loss: 228.2000\n",
            "Epoch 44/50\n",
            "52/52 [==============================] - 0s 2ms/step - loss: 221.7162 - val_loss: 220.8421\n",
            "Epoch 45/50\n",
            "52/52 [==============================] - 0s 2ms/step - loss: 214.9234 - val_loss: 213.4714\n",
            "Epoch 46/50\n",
            "52/52 [==============================] - 0s 2ms/step - loss: 208.3537 - val_loss: 206.2627\n",
            "Epoch 47/50\n",
            "52/52 [==============================] - 0s 3ms/step - loss: 201.8154 - val_loss: 199.4332\n",
            "Epoch 48/50\n",
            "52/52 [==============================] - 0s 2ms/step - loss: 195.4325 - val_loss: 192.7152\n",
            "Epoch 49/50\n",
            "52/52 [==============================] - 0s 2ms/step - loss: 189.3761 - val_loss: 186.1858\n",
            "Epoch 50/50\n",
            "52/52 [==============================] - 0s 3ms/step - loss: 183.5206 - val_loss: 179.7241\n"
          ]
        }
      ]
    },
    {
      "cell_type": "code",
      "source": [
        "y_pred=model.predict(X_test_scaled)"
      ],
      "metadata": {
        "colab": {
          "base_uri": "https://localhost:8080/"
        },
        "id": "F1_7wKiQt4vS",
        "outputId": "259bc2f8-bc04-4e95-b22e-2ff3699aa883"
      },
      "execution_count": 20,
      "outputs": [
        {
          "output_type": "stream",
          "name": "stdout",
          "text": [
            "15/15 [==============================] - 0s 2ms/step\n"
          ]
        }
      ]
    },
    {
      "cell_type": "code",
      "source": [
        "from sklearn.metrics import r2_score"
      ],
      "metadata": {
        "id": "gUiS5MM4uLzk"
      },
      "execution_count": 21,
      "outputs": []
    },
    {
      "cell_type": "code",
      "source": [
        "r2_score(y_test, y_pred)"
      ],
      "metadata": {
        "colab": {
          "base_uri": "https://localhost:8080/"
        },
        "id": "wGY5OHpLuWxJ",
        "outputId": "fe75428d-2f79-4966-f1c7-8f97d46f74d1"
      },
      "execution_count": 22,
      "outputs": [
        {
          "output_type": "execute_result",
          "data": {
            "text/plain": [
              "0.6469228732449415"
            ]
          },
          "metadata": {},
          "execution_count": 22
        }
      ]
    },
    {
      "cell_type": "code",
      "source": [],
      "metadata": {
        "id": "45XSt5cS01ES"
      },
      "execution_count": null,
      "outputs": []
    },
    {
      "cell_type": "markdown",
      "source": [
        "###Random Forest Regressor"
      ],
      "metadata": {
        "id": "FnjC8ElEwlpb"
      }
    },
    {
      "cell_type": "code",
      "source": [
        "from sklearn.ensemble import RandomForestRegressor\n",
        "from sklearn.metrics import mean_squared_error\n",
        "from sklearn.metrics import r2_score"
      ],
      "metadata": {
        "id": "cDLeP7_Kwq70"
      },
      "execution_count": 42,
      "outputs": []
    },
    {
      "cell_type": "code",
      "source": [
        "model=RandomForestRegressor()\n",
        "\n",
        "model.fit(X_train, y_train)\n",
        "y_pred=model.predict(X_test)\n",
        "mse = mean_squared_error(y_test, y_pred)\n",
        "print(\"Mean squared error:\", mse)\n",
        "r2_score = r2_score(y_test, y_pred)\n",
        "print(\"R-squared score:\", r2_score)"
      ],
      "metadata": {
        "colab": {
          "base_uri": "https://localhost:8080/"
        },
        "id": "icDivG12wsj4",
        "outputId": "515133e5-404f-4f6e-bf3a-3a14b3687ad0"
      },
      "execution_count": 43,
      "outputs": [
        {
          "output_type": "stream",
          "name": "stdout",
          "text": [
            "Mean squared error: 4.833469044919931\n",
            "R-squared score: 0.9911570748844363\n"
          ]
        }
      ]
    }
  ]
}